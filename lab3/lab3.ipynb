{
 "cells": [
  {
   "cell_type": "code",
   "execution_count": 1,
   "metadata": {},
   "outputs": [
    {
     "name": "stdout",
     "output_type": "stream",
     "text": [
      "   client_id             datetime  code  type        sum source_id  status  \\\n",
      "0   96372458  2001/02/25 06:33:15  6011  2010 -561478.94    256572       0   \n",
      "1   96372458  2000/03/09 02:04:11  6011  2010 -426724.00       NaN       0   \n",
      "2   96372458  2001/03/09 06:45:32  6011  2010 -112295.79    256566       0   \n",
      "\n",
      "                        type_description  \\\n",
      "0  Выдача наличных в АТМ Сбербанк России   \n",
      "1  Выдача наличных в АТМ Сбербанк России   \n",
      "2  Выдача наличных в АТМ Сбербанк России   \n",
      "\n",
      "                                    code_description  \n",
      "0  Финансовые институты — снятие наличности автом...  \n",
      "1  Финансовые институты — снятие наличности автом...  \n",
      "2  Финансовые институты — снятие наличности автом...  \n"
     ]
    }
   ],
   "source": [
    "import pandas as pd\n",
    "import matplotlib\n",
    "from datetime import datetime, timedelta\n",
    "\n",
    "data1 = pd.read_csv('1 - operations.csv', sep=',', decimal='.')\n",
    "data2 = pd.read_csv('2 - dataset.csv', sep=',', decimal='.')\n",
    "data3 = pd.read_csv('3 - types.csv', sep=';')\n",
    "data4 = pd.read_csv('4 - codes.csv', sep=';')\n",
    "\n",
    "dataMerged1 = pd.merge(data1, data2, on='client_id')\n",
    "dataMerged2 = pd.merge(dataMerged1, data3, on='type')\n",
    "dataMerged3 = pd.merge(dataMerged2, data4, on='code')\n",
    "\n",
    "def convert(date):\n",
    "    params = date.split();\n",
    "    startDate = datetime.strptime('Jan 1 2000', '%b %d %Y')\n",
    "    newDate = startDate + timedelta(days=int(params[0]))\n",
    "    return newDate.strftime('%Y/%m/%d') + ' ' + params[1]\n",
    "\n",
    "dataMerged3.datetime = dataMerged3.datetime.map(convert)\n",
    "\n",
    "print(dataMerged3[:3])"
   ]
  },
  {
   "cell_type": "code",
   "execution_count": 2,
   "metadata": {},
   "outputs": [
    {
     "name": "stdout",
     "output_type": "stream",
     "text": [
      "             client_id            code            type           sum  \\\n",
      "count   4101723.000000  4101723.000000  4101723.000000  4.101723e+06   \n",
      "mean   50895019.044660     5592.848976     2499.336586 -2.091074e+04   \n",
      "std    28657644.561447      603.208744     2259.388068  5.017032e+05   \n",
      "min       22899.000000      742.000000     1000.000000 -1.347549e+08   \n",
      "25%    25992960.000000     5211.000000     1030.000000 -2.245916e+04   \n",
      "50%    52433000.000000     5641.000000     1110.000000 -5.524950e+03   \n",
      "75%    74992804.000000     6010.000000     2370.000000 -1.122960e+03   \n",
      "max    99999680.000000     9402.000000     8146.000000  1.347549e+08   \n",
      "\n",
      "               status  \n",
      "count  4101723.000000  \n",
      "mean         0.485102  \n",
      "std          0.499778  \n",
      "min          0.000000  \n",
      "25%          0.000000  \n",
      "50%          0.000000  \n",
      "75%          1.000000  \n",
      "max          1.000000  \n"
     ]
    }
   ],
   "source": [
    "print(dataMerged3.describe())"
   ]
  },
  {
   "cell_type": "code",
   "execution_count": 9,
   "metadata": {},
   "outputs": [
    {
     "data": {
      "image/png": "[encoded data removed]",
      "text/plain": [
       "<matplotlib.figure.Figure at 0x135c08790>"
      ]
     },
     "metadata": {},
     "output_type": "display_data"
    }
   ],
   "source": [
    "import matplotlib.pyplot as plt\n",
    "%matplotlib inline\n",
    "dataMerged3['client_id'].hist(bins=50)\n",
    "plt.show()"
   ]
  },
  {
   "cell_type": "code",
   "execution_count": 10,
   "metadata": {},
   "outputs": [
    {
     "data": {
      "image/png": "[encoded data removed]",
      "text/plain": [
       "<matplotlib.figure.Figure at 0x136097310>"
      ]
     },
     "metadata": {},
     "output_type": "display_data"
    }
   ],
   "source": [
    "dataMerged3['sum'].hist(bins=50)\n",
    "plt.show()"
   ]
  },
  {
   "cell_type": "code",
   "execution_count": 11,
   "metadata": {},
   "outputs": [
    {
     "data": {
      "image/png": "[encoded data removed]",
      "text/plain": [
       "<matplotlib.figure.Figure at 0x136657310>"
      ]
     },
     "metadata": {},
     "output_type": "display_data"
    }
   ],
   "source": [
    "dataMerged3['status'].hist(bins=50)\n",
    "plt.show()"
   ]
  },
  {
   "cell_type": "code",
   "execution_count": null,
   "metadata": {
    "collapsed": true
   },
   "outputs": [],
   "source": []
  }
 ],
 "metadata": {
  "kernelspec": {
   "display_name": "Python 2",
   "language": "python",
   "name": "python2"
  },
  "language_info": {
   "codemirror_mode": {
    "name": "ipython",
    "version": 2
   },
   "file_extension": ".py",
   "mimetype": "text/x-python",
   "name": "python",
   "nbconvert_exporter": "python",
   "pygments_lexer": "ipython2",
   "version": "2.7.10"
  }
 },
 "nbformat": 4,
 "nbformat_minor": 2
}
