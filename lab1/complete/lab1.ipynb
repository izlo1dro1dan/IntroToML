{
 "cells": [
  {
   "cell_type": "markdown",
   "metadata": {},
   "source": [
    "# Intro to Mathematical logic, Jupyter Notebook\n",
    "\n",
    "## Installation\n",
    "* pip install pyDatalog\n",
    "\n",
    "## Tasks\n",
    "* Extend rules for the salary at your own company. Namely add progressive tax rate depending on salary tax_rate=f(salary)\n",
    "* Add working time and calculate the total salary for every employee\n",
    "* Make filter form for employees"
   ]
  },
  {
   "cell_type": "code",
   "execution_count": 1,
   "metadata": {},
   "outputs": [
    {
     "name": "stdout",
     "output_type": "stream",
     "text": [
      "Set the X var to 1\n",
      "X\n",
      "-\n",
      "1\n",
      "()\n",
      "Assignment of 2 Vars\n",
      "X    | Y    \n",
      "-----|------\n",
      "True | False\n",
      "()\n",
      "Assignment n times, to n values\n",
      "Arr\n",
      "---\n",
      "0  \n",
      "2  \n",
      "1  \n",
      "4  \n",
      "3  \n",
      "()\n",
      "Just another case N assignment\n",
      "[(1,), (3,), (0,), (2,), (4,)]\n",
      "()\n",
      "Filtering\n",
      "X\n",
      "-\n",
      "0\n",
      "1\n",
      "()\n",
      "Term of function\n",
      "X | Y\n",
      "--|--\n",
      "2 | 4\n",
      "()\n",
      "Combination Assignment and Filtering\n",
      "X | Y | Z\n",
      "--|---|--\n",
      "2 | 1 | 2\n",
      "0 | 2 | 0\n",
      "0 | 0 | 0\n",
      "0 | 4 | 0\n",
      "0 | 3 | 0\n",
      "1 | 0 | 0\n",
      "0 | 1 | 0\n",
      "1 | 1 | 1\n",
      "2 | 0 | 0\n",
      "3 | 0 | 0\n",
      "4 | 0 | 0\n",
      "1 | 2 | 2\n",
      "12\n"
     ]
    }
   ],
   "source": [
    "from pyDatalog import pyDatalog\n",
    "def twice(a):\n",
    "    return a+a\n",
    "pyDatalog.create_terms('X,Y,Z,Arr')\n",
    "\n",
    "print('Set the X var to 1')\n",
    "print(X==1)\n",
    "print()\n",
    "print('Assignment of 2 Vars')\n",
    "print((X==True) & (Y==False))\n",
    "print()\n",
    "\n",
    "print('Assignment n times, to n values')\n",
    "print(Arr.in_((0,1,2,3,4)))\n",
    "print()\n",
    "\n",
    "print('Just another case N assignment')\n",
    "print(Arr.in_(range(5)).data)\n",
    "print()\n",
    "\n",
    "print('Filtering')\n",
    "print(X.in_(range(5)) & (X<2))\n",
    "print()\n",
    "\n",
    "print('Term of function')\n",
    "pyDatalog.create_terms('twice')\n",
    "print((X==2) & (Y==twice(X)))\n",
    "print()\n",
    "print('Combination Assignment and Filtering')\n",
    "print(X.in_(range(5)) & \n",
    "     Y.in_(range(5)) & \n",
    "     (Z==X*Y) & (Z<3))\n",
    "print(len(Z))"
   ]
  },
  {
   "cell_type": "code",
   "execution_count": 2,
   "metadata": {
    "scrolled": false
   },
   "outputs": [
    {
     "data": {
      "application/vnd.jupyter.widget-view+json": {
       "model_id": "c1fb2e8750384b5686a03b24f7bc4257",
       "version_major": 2,
       "version_minor": 0
      },
      "text/plain": [
       "A Jupyter Widget"
      ]
     },
     "metadata": {},
     "output_type": "display_data"
    }
   ],
   "source": [
    "from ipywidgets import interact_manual\n",
    "from pyDatalog import pyDatalog\n",
    "pyDatalog.create_terms('NAME, SALARY, WITH_TAX, TOTAL, tax, working_times, net_salary, get_tax, calc_total')\n",
    "def calc_total(name):\n",
    "    salary = net_salary[name]\n",
    "    working_time = working_times[name]\n",
    "    return salary * working_time\n",
    "def get_tax(name):\n",
    "    salary = net_salary[name]\n",
    "    return tax[salary] * salary\n",
    "@interact_manual\n",
    "def get_input(name='User', salary=100, working_time=12):\n",
    "    net_salary[name] = salary\n",
    "    working_times[name] = working_time\n",
    "    (tax[X] == 0.25) <= (0 < X)\n",
    "    (tax[X] == 0.5) <= (100 < X)\n",
    "    print((SALARY==net_salary[NAME]) & (WITH_TAX==get_tax(NAME)) & (TOTAL==calc_total(NAME)) & (TOTAL>500))"
   ]
  },
  {
   "cell_type": "code",
   "execution_count": null,
   "metadata": {
    "collapsed": true
   },
   "outputs": [],
   "source": []
  },
  {
   "cell_type": "code",
   "execution_count": null,
   "metadata": {
    "collapsed": true
   },
   "outputs": [],
   "source": []
  },
  {
   "cell_type": "code",
   "execution_count": null,
   "metadata": {
    "collapsed": true
   },
   "outputs": [],
   "source": []
  },
  {
   "cell_type": "markdown",
   "metadata": {
    "collapsed": true
   },
   "source": []
  }
 ],
 "metadata": {
  "anaconda-cloud": {},
  "kernelspec": {
   "display_name": "Python 2",
   "language": "python",
   "name": "python2"
  },
  "language_info": {
   "codemirror_mode": {
    "name": "ipython",
    "version": 2
   },
   "file_extension": ".py",
   "mimetype": "text/x-python",
   "name": "python",
   "nbconvert_exporter": "python",
   "pygments_lexer": "ipython2",
   "version": "2.7.14"
  },
  "widgets": {
   "state": {
    "32a51d31218d46a6a37fa1973993894e": {
     "views": [
      {
       "cell_index": 2
      }
     ]
    },
    "c32fd48b5e8d49a3b80c484b560621a3": {
     "views": [
      {
       "cell_index": 2
      }
     ]
    },
    "c456a5202f744432af99a1d49460735b": {
     "views": [
      {
       "cell_index": 2
      }
     ]
    }
   },
   "version": "1.2.0"
  }
 },
 "nbformat": 4,
 "nbformat_minor": 2
}
